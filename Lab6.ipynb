{
 "cells": [
  {
   "cell_type": "markdown",
   "metadata": {},
   "source": [
    "Robotics II: Control, Modeling and Learning"
   ]
  },
  {
   "cell_type": "markdown",
   "metadata": {},
   "source": [
    "Laboratory 6"
   ]
  },
  {
   "cell_type": "markdown",
   "metadata": {},
   "source": [
    "By Zarema Balgabekova"
   ]
  },
  {
   "cell_type": "code",
   "execution_count": 278,
   "metadata": {},
   "outputs": [],
   "source": [
    "import numpy as np \n",
    "import pandas as pd\n",
    "from sklearn.model_selection import train_test_split\n",
    "import keras\n",
    "from keras.models import Sequential\n",
    "from keras.layers import Dense, Flatten, Dropout\n",
    "from tensorflow.keras.optimizers import Adam\n",
    "from keras.utils import np_utils \n",
    "from keras import backend as K"
   ]
  },
  {
   "cell_type": "markdown",
   "metadata": {},
   "source": [
    "The dataset of 5000 points was collected using dataset.py."
   ]
  },
  {
   "cell_type": "code",
   "execution_count": 279,
   "metadata": {},
   "outputs": [],
   "source": [
    "#dict.csv contains 5000 data points\n",
    "data = pd.read_csv(\"dict2.csv\", header = None, names = [\"Angles\", \"XY\"])"
   ]
  },
  {
   "cell_type": "code",
   "execution_count": 280,
   "metadata": {},
   "outputs": [],
   "source": [
    "train = data['Angles'].to_numpy()\n",
    "labels = data['XY'].to_numpy()"
   ]
  },
  {
   "cell_type": "code",
   "execution_count": 282,
   "metadata": {},
   "outputs": [],
   "source": [
    "X = list()\n",
    "Y = list()\n",
    "for i in range(len(train)):\n",
    "    labels[i] = labels[i].replace('   ', ' ')\n",
    "    labels[i] = labels[i].replace('  ', ' ')\n",
    "    labels[i] = labels[i].strip('[ ').strip(' ]')\n",
    "    train[i] = train[i].strip('(').strip(')')\n",
    "    result = [float(val) for val in train[i].split(',')]\n",
    "    X.append(result)\n",
    "    result = [float(val) for val in labels[i].split(' ')]\n",
    "    Y.append(result)"
   ]
  },
  {
   "cell_type": "code",
   "execution_count": 283,
   "metadata": {},
   "outputs": [],
   "source": [
    "def rmse(y_true, y_pred):\n",
    "    return K.sqrt(K.mean(K.square(y_pred - y_true)))"
   ]
  },
  {
   "cell_type": "markdown",
   "metadata": {},
   "source": [
    "## Trying different regression losses"
   ]
  },
  {
   "cell_type": "markdown",
   "metadata": {},
   "source": [
    "1 RMSE (Root mean squared error)"
   ]
  },
  {
   "cell_type": "code",
   "execution_count": 284,
   "metadata": {},
   "outputs": [
    {
     "name": "stdout",
     "output_type": "stream",
     "text": [
      "RMSE: 0.062683\n"
     ]
    }
   ],
   "source": [
    "model = Sequential()\n",
    "model.add(Dense(10, input_dim =5, activation = 'relu'))\n",
    "model.add(Dense(16, activation = 'relu'))\n",
    "model.add(Dense(2, activation='linear'))\n",
    "model.compile(loss=rmse, optimizer=Adam(0.01))\n",
    "\n",
    "X_train, X_test, y_train, y_test = train_test_split(np.asarray(X), np.asarray(Y), test_size=0.20)\n",
    "y_train = np.delete(y_train, 2, 1)\n",
    "y_test = np.delete(y_test, 2, 1)\n",
    "\n",
    "model.fit(X_train, y_train, epochs = 15, verbose = 0)\n",
    "scores = model.evaluate(X_test, y_test, verbose = 0) \n",
    "print(\"RMSE: %.6f\" % (scores))"
   ]
  },
  {
   "cell_type": "markdown",
   "metadata": {},
   "source": [
    "2 MSE (Mean squared error)"
   ]
  },
  {
   "cell_type": "code",
   "execution_count": 285,
   "metadata": {},
   "outputs": [
    {
     "name": "stdout",
     "output_type": "stream",
     "text": [
      "MSE: 0.004353\n"
     ]
    }
   ],
   "source": [
    "model = Sequential()\n",
    "model.add(Dense(10, input_dim =5, activation = 'relu'))\n",
    "model.add(Dense(16, activation = 'relu'))\n",
    "model.add(Dense(2, activation='linear'))\n",
    "model.compile(loss='mean_squared_error', optimizer=Adam(0.01))\n",
    "\n",
    "X_train, X_test, y_train, y_test = train_test_split(np.asarray(X), np.asarray(Y), test_size=0.20)\n",
    "y_train = np.delete(y_train, 2, 1)\n",
    "y_test = np.delete(y_test, 2, 1)\n",
    "\n",
    "model.fit(X_train, y_train, epochs = 15, verbose = 0)\n",
    "scores = model.evaluate(X_test, y_test, verbose = 0) \n",
    "print(\"MSE: %.6f\" % (scores))"
   ]
  },
  {
   "cell_type": "markdown",
   "metadata": {},
   "source": [
    "3 MAE (Mean absolute error)"
   ]
  },
  {
   "cell_type": "code",
   "execution_count": 286,
   "metadata": {},
   "outputs": [
    {
     "name": "stdout",
     "output_type": "stream",
     "text": [
      "MAE: 0.052243\n"
     ]
    }
   ],
   "source": [
    "model = Sequential()\n",
    "model.add(Dense(10, input_dim =5, activation = 'relu'))\n",
    "model.add(Dense(16, activation = 'relu'))\n",
    "model.add(Dense(2, activation='linear'))\n",
    "model.compile(loss='mean_absolute_error', optimizer=Adam(0.01))\n",
    "\n",
    "X_train, X_test, y_train, y_test = train_test_split(np.asarray(X), np.asarray(Y), test_size=0.20)\n",
    "y_train = np.delete(y_train, 2, 1)\n",
    "y_test = np.delete(y_test, 2, 1)\n",
    "\n",
    "model.fit(X_train, y_train, epochs = 15, verbose = 0)\n",
    "scores = model.evaluate(X_test, y_test, verbose = 0) \n",
    "print(\"MAE: %.6f\" % (scores))"
   ]
  },
  {
   "cell_type": "markdown",
   "metadata": {},
   "source": [
    "4 MSLE (Mean squared logarithmic error)"
   ]
  },
  {
   "cell_type": "code",
   "execution_count": 287,
   "metadata": {},
   "outputs": [
    {
     "name": "stdout",
     "output_type": "stream",
     "text": [
      "MSLE: 0.000465\n"
     ]
    }
   ],
   "source": [
    "model = Sequential()\n",
    "model.add(Dense(10, input_dim =5, activation = 'relu'))\n",
    "model.add(Dense(16, activation = 'relu'))\n",
    "model.add(Dense(2, activation='linear'))\n",
    "model.compile(loss='mean_squared_logarithmic_error', optimizer=Adam(0.01))\n",
    "\n",
    "X_train, X_test, y_train, y_test = train_test_split(np.asarray(X), np.asarray(Y), test_size=0.20)\n",
    "y_train = np.delete(y_train, 2, 1)\n",
    "y_test = np.delete(y_test, 2, 1)\n",
    "\n",
    "model.fit(X_train, y_train, epochs = 15, verbose = 0)\n",
    "scores = model.evaluate(X_test, y_test, verbose = 0) \n",
    "print(\"MSLE: %.6f\" % (scores))"
   ]
  },
  {
   "cell_type": "markdown",
   "metadata": {},
   "source": [
    "5 Huber loss"
   ]
  },
  {
   "cell_type": "code",
   "execution_count": 288,
   "metadata": {},
   "outputs": [
    {
     "name": "stdout",
     "output_type": "stream",
     "text": [
      "Huber: 0.001976\n"
     ]
    }
   ],
   "source": [
    "model = Sequential()\n",
    "model.add(Dense(10, input_dim =5, activation = 'relu'))\n",
    "model.add(Dense(16, activation = 'relu'))\n",
    "model.add(Dense(2, activation='linear'))\n",
    "model.compile(loss='huber', optimizer=Adam(0.01))\n",
    "\n",
    "X_train, X_test, y_train, y_test = train_test_split(np.asarray(X), np.asarray(Y), test_size=0.20)\n",
    "y_train = np.delete(y_train, 2, 1)\n",
    "y_test = np.delete(y_test, 2, 1)\n",
    "\n",
    "model.fit(X_train, y_train, epochs = 15, verbose = 0)\n",
    "scores = model.evaluate(X_test, y_test, verbose = 0) \n",
    "print(\"Huber: %.6f\" % (scores))"
   ]
  },
  {
   "cell_type": "markdown",
   "metadata": {},
   "source": [
    "6 Log cosh"
   ]
  },
  {
   "cell_type": "code",
   "execution_count": 289,
   "metadata": {},
   "outputs": [
    {
     "name": "stdout",
     "output_type": "stream",
     "text": [
      "Log cosh: 0.001451\n"
     ]
    }
   ],
   "source": [
    "model = Sequential()\n",
    "model.add(Dense(10, input_dim =5, activation = 'relu'))\n",
    "model.add(Dense(16, activation = 'relu'))\n",
    "model.add(Dense(2, activation='linear'))\n",
    "model.compile(loss='log_cosh', optimizer=Adam(0.01))\n",
    "\n",
    "\n",
    "X_train, X_test, y_train, y_test = train_test_split(np.asarray(X), np.asarray(Y), test_size=0.20)\n",
    "y_train = np.delete(y_train, 2, 1)\n",
    "y_test = np.delete(y_test, 2, 1)\n",
    "\n",
    "model.fit(X_train, y_train, epochs = 15, verbose = 0)\n",
    "scores = model.evaluate(X_test, y_test, verbose = 0) \n",
    "print(\"Log cosh: %.6f\" % (scores))"
   ]
  },
  {
   "cell_type": "markdown",
   "metadata": {},
   "source": [
    "Therefore, MSLE loss should be used."
   ]
  },
  {
   "cell_type": "markdown",
   "metadata": {},
   "source": [
    "## Trying different optimizers"
   ]
  },
  {
   "cell_type": "markdown",
   "metadata": {},
   "source": [
    "1 Adam"
   ]
  },
  {
   "cell_type": "markdown",
   "metadata": {},
   "source": [
    "For Adam optimizer, MSLE = 0.000465."
   ]
  },
  {
   "cell_type": "code",
   "execution_count": 290,
   "metadata": {},
   "outputs": [],
   "source": [
    "from tensorflow.keras.optimizers import SGD\n",
    "from tensorflow.keras.optimizers import Adadelta\n",
    "from tensorflow.keras.optimizers import RMSprop\n",
    "from tensorflow.keras.optimizers import Adagrad\n",
    "from tensorflow.keras.optimizers import Adamax\n",
    "from tensorflow.keras.optimizers import Nadam\n",
    "from tensorflow.keras.optimizers import Ftrl"
   ]
  },
  {
   "cell_type": "markdown",
   "metadata": {},
   "source": [
    "2 SGD"
   ]
  },
  {
   "cell_type": "code",
   "execution_count": 291,
   "metadata": {},
   "outputs": [
    {
     "name": "stdout",
     "output_type": "stream",
     "text": [
      "MSLE: 0.050566\n"
     ]
    }
   ],
   "source": [
    "model = Sequential()\n",
    "model.add(Dense(10, input_dim =5, activation = 'relu'))\n",
    "model.add(Dense(16, activation = 'relu'))\n",
    "model.add(Dense(2, activation='linear'))\n",
    "model.compile(loss='mean_squared_logarithmic_error', optimizer=SGD(0.01))\n",
    "\n",
    "X_train, X_test, y_train, y_test = train_test_split(np.asarray(X), np.asarray(Y), test_size=0.20)\n",
    "y_train = np.delete(y_train, 2, 1)\n",
    "y_test = np.delete(y_test, 2, 1)\n",
    "\n",
    "model.fit(X_train, y_train, epochs = 15, verbose = 0)\n",
    "scores = model.evaluate(X_test, y_test, verbose = 0) \n",
    "print(\"MSLE: %.6f\" % (scores))"
   ]
  },
  {
   "cell_type": "markdown",
   "metadata": {},
   "source": [
    "3 Adadelta"
   ]
  },
  {
   "cell_type": "code",
   "execution_count": 292,
   "metadata": {},
   "outputs": [
    {
     "name": "stdout",
     "output_type": "stream",
     "text": [
      "MSLE: 0.744011\n"
     ]
    }
   ],
   "source": [
    "model = Sequential()\n",
    "model.add(Dense(10, input_dim =5, activation = 'relu'))\n",
    "model.add(Dense(16, activation = 'relu'))\n",
    "model.add(Dense(2, activation='linear'))\n",
    "model.compile(loss='mean_squared_logarithmic_error', optimizer=Adadelta(0.01))\n",
    "\n",
    "X_train, X_test, y_train, y_test = train_test_split(np.asarray(X), np.asarray(Y), test_size=0.20)\n",
    "y_train = np.delete(y_train, 2, 1)\n",
    "y_test = np.delete(y_test, 2, 1)\n",
    "\n",
    "model.fit(X_train, y_train, epochs = 15, verbose = 0)\n",
    "scores = model.evaluate(X_test, y_test, verbose = 0) \n",
    "print(\"MSLE: %.6f\" % (scores))"
   ]
  },
  {
   "cell_type": "markdown",
   "metadata": {},
   "source": [
    "4 RMSprop"
   ]
  },
  {
   "cell_type": "code",
   "execution_count": 293,
   "metadata": {},
   "outputs": [
    {
     "name": "stdout",
     "output_type": "stream",
     "text": [
      "MSLE: 0.001378\n"
     ]
    }
   ],
   "source": [
    "model = Sequential()\n",
    "model.add(Dense(10, input_dim =5, activation = 'relu'))\n",
    "model.add(Dense(16, activation = 'relu'))\n",
    "model.add(Dense(2, activation='linear'))\n",
    "model.compile(loss='mean_squared_logarithmic_error', optimizer=RMSprop(0.01))\n",
    "\n",
    "X_train, X_test, y_train, y_test = train_test_split(np.asarray(X), np.asarray(Y), test_size=0.20)\n",
    "y_train = np.delete(y_train, 2, 1)\n",
    "y_test = np.delete(y_test, 2, 1)\n",
    "\n",
    "model.fit(X_train, y_train, epochs = 15, verbose = 0)\n",
    "scores = model.evaluate(X_test, y_test, verbose = 0) \n",
    "print(\"MSLE: %.6f\" % (scores))"
   ]
  },
  {
   "cell_type": "markdown",
   "metadata": {},
   "source": [
    "5 Adagrad"
   ]
  },
  {
   "cell_type": "code",
   "execution_count": 294,
   "metadata": {},
   "outputs": [
    {
     "name": "stdout",
     "output_type": "stream",
     "text": [
      "MSLE: 0.006846\n"
     ]
    }
   ],
   "source": [
    "model = Sequential()\n",
    "model.add(Dense(10, input_dim =5, activation = 'relu'))\n",
    "model.add(Dense(16, activation = 'relu'))\n",
    "model.add(Dense(2, activation='linear'))\n",
    "model.compile(loss='mean_squared_logarithmic_error', optimizer=Adagrad(0.01))\n",
    "\n",
    "X_train, X_test, y_train, y_test = train_test_split(np.asarray(X), np.asarray(Y), test_size=0.20)\n",
    "y_train = np.delete(y_train, 2, 1)\n",
    "y_test = np.delete(y_test, 2, 1)\n",
    "\n",
    "model.fit(X_train, y_train, epochs = 15, verbose = 0)\n",
    "scores = model.evaluate(X_test, y_test, verbose = 0) \n",
    "print(\"MSLE: %.6f\" % (scores))"
   ]
  },
  {
   "cell_type": "markdown",
   "metadata": {},
   "source": [
    "6 Adamax"
   ]
  },
  {
   "cell_type": "code",
   "execution_count": 295,
   "metadata": {},
   "outputs": [
    {
     "name": "stdout",
     "output_type": "stream",
     "text": [
      "MSLE: 0.000792\n"
     ]
    }
   ],
   "source": [
    "model = Sequential()\n",
    "model.add(Dense(10, input_dim =5, activation = 'relu'))\n",
    "model.add(Dense(16, activation = 'relu'))\n",
    "model.add(Dense(2, activation='linear'))\n",
    "model.compile(loss='mean_squared_logarithmic_error', optimizer=Adamax(0.01))\n",
    "\n",
    "X_train, X_test, y_train, y_test = train_test_split(np.asarray(X), np.asarray(Y), test_size=0.20)\n",
    "y_train = np.delete(y_train, 2, 1)\n",
    "y_test = np.delete(y_test, 2, 1)\n",
    "\n",
    "model.fit(X_train, y_train, epochs = 15, verbose = 0)\n",
    "scores = model.evaluate(X_test, y_test, verbose = 0) \n",
    "print(\"MSLE: %.6f\" % (scores))"
   ]
  },
  {
   "cell_type": "markdown",
   "metadata": {},
   "source": [
    "7 Nadam"
   ]
  },
  {
   "cell_type": "code",
   "execution_count": 296,
   "metadata": {},
   "outputs": [
    {
     "name": "stdout",
     "output_type": "stream",
     "text": [
      "MSLE: 0.000735\n"
     ]
    }
   ],
   "source": [
    "model = Sequential()\n",
    "model.add(Dense(10, input_dim =5, activation = 'relu'))\n",
    "model.add(Dense(16, activation = 'relu'))\n",
    "model.add(Dense(2, activation='linear'))\n",
    "model.compile(loss='mean_squared_logarithmic_error', optimizer=Nadam(0.01))\n",
    "\n",
    "X_train, X_test, y_train, y_test = train_test_split(np.asarray(X), np.asarray(Y), test_size=0.20)\n",
    "y_train = np.delete(y_train, 2, 1)\n",
    "y_test = np.delete(y_test, 2, 1)\n",
    "\n",
    "model.fit(X_train, y_train, epochs = 15, verbose = 0)\n",
    "scores = model.evaluate(X_test, y_test, verbose = 0) \n",
    "print(\"MSLE: %.6f\" % (scores))"
   ]
  },
  {
   "cell_type": "markdown",
   "metadata": {},
   "source": [
    "8 Ftrl"
   ]
  },
  {
   "cell_type": "code",
   "execution_count": 297,
   "metadata": {},
   "outputs": [
    {
     "name": "stdout",
     "output_type": "stream",
     "text": [
      "MSLE: 0.082130\n"
     ]
    }
   ],
   "source": [
    "model = Sequential()\n",
    "model.add(Dense(10, input_dim =5, activation = 'relu'))\n",
    "model.add(Dense(16, activation = 'relu'))\n",
    "model.add(Dense(2, activation='linear'))\n",
    "model.compile(loss='mean_squared_logarithmic_error', optimizer=Ftrl(0.01))\n",
    "\n",
    "X_train, X_test, y_train, y_test = train_test_split(np.asarray(X), np.asarray(Y), test_size=0.20)\n",
    "y_train = np.delete(y_train, 2, 1)\n",
    "y_test = np.delete(y_test, 2, 1)\n",
    "\n",
    "model.fit(X_train, y_train, epochs = 15, verbose = 0)\n",
    "scores = model.evaluate(X_test, y_test, verbose = 0) \n",
    "print(\"MSLE: %.6f\" % (scores))"
   ]
  },
  {
   "cell_type": "markdown",
   "metadata": {},
   "source": [
    "Therefore, Adam optimizer should be used. However, Nadam and Adamax also perform well."
   ]
  },
  {
   "cell_type": "markdown",
   "metadata": {},
   "source": [
    "## Changing layers"
   ]
  },
  {
   "cell_type": "markdown",
   "metadata": {},
   "source": [
    "1 Changing the number of neurons for the first hidden layer"
   ]
  },
  {
   "cell_type": "code",
   "execution_count": 298,
   "metadata": {},
   "outputs": [
    {
     "name": "stdout",
     "output_type": "stream",
     "text": [
      "MSLE: 0.000516\n"
     ]
    }
   ],
   "source": [
    "model = Sequential()\n",
    "model.add(Dense(32, input_dim =5, activation = 'relu'))\n",
    "model.add(Dense(16, activation = 'relu'))\n",
    "model.add(Dense(2, activation='linear'))\n",
    "model.compile(loss='mean_squared_logarithmic_error', optimizer=Adam(0.01))\n",
    "\n",
    "\n",
    "X_train, X_test, y_train, y_test = train_test_split(np.asarray(X), np.asarray(Y), test_size=0.20)\n",
    "y_train = np.delete(y_train, 2, 1)\n",
    "y_test = np.delete(y_test, 2, 1)\n",
    "\n",
    "model.fit(X_train, y_train, epochs = 15, verbose = 0)\n",
    "scores = model.evaluate(X_test, y_test, verbose = 0) \n",
    "print(\"MSLE: %.6f\" % (scores))"
   ]
  },
  {
   "cell_type": "code",
   "execution_count": 299,
   "metadata": {},
   "outputs": [
    {
     "name": "stdout",
     "output_type": "stream",
     "text": [
      "MSLE: 0.000842\n"
     ]
    }
   ],
   "source": [
    "model = Sequential()\n",
    "model.add(Dense(64, input_dim =5, activation = 'relu'))\n",
    "model.add(Dense(16, activation = 'relu'))\n",
    "model.add(Dense(2, activation='linear'))\n",
    "model.compile(loss='mean_squared_logarithmic_error', optimizer=Adam(0.01))\n",
    "\n",
    "\n",
    "X_train, X_test, y_train, y_test = train_test_split(np.asarray(X), np.asarray(Y), test_size=0.20)\n",
    "y_train = np.delete(y_train, 2, 1)\n",
    "y_test = np.delete(y_test, 2, 1)\n",
    "\n",
    "model.fit(X_train, y_train, epochs = 15, verbose = 0)\n",
    "scores = model.evaluate(X_test, y_test, verbose = 0) \n",
    "print(\"MSLE: %.6f\" % (scores))"
   ]
  },
  {
   "cell_type": "code",
   "execution_count": 303,
   "metadata": {},
   "outputs": [
    {
     "name": "stdout",
     "output_type": "stream",
     "text": [
      "MSLE: 0.001028\n"
     ]
    }
   ],
   "source": [
    "model = Sequential()\n",
    "model.add(Dense(5, input_dim =5, activation = 'relu'))\n",
    "model.add(Dense(16, activation = 'relu'))\n",
    "model.add(Dense(2, activation='linear'))\n",
    "model.compile(loss='mean_squared_logarithmic_error', optimizer=Adam(0.01))\n",
    "\n",
    "\n",
    "X_train, X_test, y_train, y_test = train_test_split(np.asarray(X), np.asarray(Y), test_size=0.20)\n",
    "y_train = np.delete(y_train, 2, 1)\n",
    "y_test = np.delete(y_test, 2, 1)\n",
    "\n",
    "model.fit(X_train, y_train, epochs = 15, verbose = 0)\n",
    "scores = model.evaluate(X_test, y_test, verbose = 0) \n",
    "print(\"MSLE: %.6f\" % (scores))"
   ]
  },
  {
   "cell_type": "markdown",
   "metadata": {},
   "source": [
    "We can see that the result does not improve. That's why we will keep 10 neurons for the first layer."
   ]
  },
  {
   "cell_type": "markdown",
   "metadata": {},
   "source": [
    "2 Adding more hiddenlayers"
   ]
  },
  {
   "cell_type": "code",
   "execution_count": 308,
   "metadata": {},
   "outputs": [
    {
     "name": "stdout",
     "output_type": "stream",
     "text": [
      "MSLE: 0.000399\n"
     ]
    }
   ],
   "source": [
    "model = Sequential()\n",
    "model.add(Dense(10, input_dim =5, activation = 'relu'))\n",
    "model.add(Dense(16, activation = 'relu'))\n",
    "model.add(Dense(8, activation = 'relu'))\n",
    "model.add(Dense(2, activation='linear'))\n",
    "model.compile(loss='mean_squared_logarithmic_error', optimizer=Adam(0.01))\n",
    "\n",
    "X_train, X_test, y_train, y_test = train_test_split(np.asarray(X), np.asarray(Y), test_size=0.20)\n",
    "y_train = np.delete(y_train, 2, 1)\n",
    "y_test = np.delete(y_test, 2, 1)\n",
    "\n",
    "model.fit(X_train, y_train, epochs = 15, verbose = 0)\n",
    "scores = model.evaluate(X_test, y_test, verbose = 0) \n",
    "print(\"MSLE: %.6f\" % (scores))"
   ]
  },
  {
   "cell_type": "code",
   "execution_count": 307,
   "metadata": {},
   "outputs": [
    {
     "name": "stdout",
     "output_type": "stream",
     "text": [
      "MSLE: 0.000543\n"
     ]
    }
   ],
   "source": [
    "model = Sequential()\n",
    "model.add(Dense(10, input_dim =5, activation = 'relu'))\n",
    "model.add(Dense(16, activation = 'relu'))\n",
    "model.add(Dense(4, activation = 'relu'))\n",
    "model.add(Dense(2, activation='linear'))\n",
    "model.compile(loss='mean_squared_logarithmic_error', optimizer=Adam(0.01))\n",
    "\n",
    "X_train, X_test, y_train, y_test = train_test_split(np.asarray(X), np.asarray(Y), test_size=0.20)\n",
    "y_train = np.delete(y_train, 2, 1)\n",
    "y_test = np.delete(y_test, 2, 1)\n",
    "\n",
    "model.fit(X_train, y_train, epochs = 15, verbose = 0)\n",
    "scores = model.evaluate(X_test, y_test, verbose = 0) \n",
    "print(\"MSLE: %.6f\" % (scores))"
   ]
  },
  {
   "cell_type": "code",
   "execution_count": 310,
   "metadata": {},
   "outputs": [
    {
     "name": "stdout",
     "output_type": "stream",
     "text": [
      "MSLE: 0.000472\n"
     ]
    }
   ],
   "source": [
    "model = Sequential()\n",
    "model.add(Dense(10, input_dim =5, activation = 'relu'))\n",
    "model.add(Dense(16, activation = 'relu'))\n",
    "model.add(Dense(8, activation = 'relu'))\n",
    "model.add(Dense(4, activation = 'relu'))\n",
    "model.add(Dense(2, activation='linear'))\n",
    "model.compile(loss='mean_squared_logarithmic_error', optimizer=Adam(0.01))\n",
    "\n",
    "X_train, X_test, y_train, y_test = train_test_split(np.asarray(X), np.asarray(Y), test_size=0.20)\n",
    "y_train = np.delete(y_train, 2, 1)\n",
    "y_test = np.delete(y_test, 2, 1)\n",
    "\n",
    "model.fit(X_train, y_train, epochs = 15, verbose = 0)\n",
    "scores = model.evaluate(X_test, y_test, verbose = 0) \n",
    "print(\"MSLE: %.6f\" % (scores))"
   ]
  },
  {
   "cell_type": "markdown",
   "metadata": {},
   "source": [
    "It is seen that MSLE is the smallest when we add one more hidden layer with 8 neurons."
   ]
  },
  {
   "cell_type": "markdown",
   "metadata": {},
   "source": [
    "3 Decreasing the number of hidden layers"
   ]
  },
  {
   "cell_type": "code",
   "execution_count": 315,
   "metadata": {},
   "outputs": [
    {
     "name": "stdout",
     "output_type": "stream",
     "text": [
      "MSLE: 0.000766\n"
     ]
    }
   ],
   "source": [
    "model = Sequential()\n",
    "model.add(Dense(10, input_dim =5, activation = 'relu'))\n",
    "model.add(Dense(2, activation='linear'))\n",
    "model.compile(loss='mean_squared_logarithmic_error', optimizer=Adam(0.01))\n",
    "\n",
    "X_train, X_test, y_train, y_test = train_test_split(np.asarray(X), np.asarray(Y), test_size=0.20)\n",
    "y_train = np.delete(y_train, 2, 1)\n",
    "y_test = np.delete(y_test, 2, 1)\n",
    "\n",
    "model.fit(X_train, y_train, epochs = 15, verbose = 0)\n",
    "scores = model.evaluate(X_test, y_test, verbose = 0) \n",
    "print(\"MSLE: %.6f\" % (scores))"
   ]
  },
  {
   "cell_type": "code",
   "execution_count": 316,
   "metadata": {},
   "outputs": [
    {
     "name": "stdout",
     "output_type": "stream",
     "text": [
      "MSLE: 0.005244\n"
     ]
    }
   ],
   "source": [
    "model = Sequential()\n",
    "model.add(Dense(2, activation='linear'))\n",
    "model.compile(loss='mean_squared_logarithmic_error', optimizer=Adam(0.01))\n",
    "\n",
    "X_train, X_test, y_train, y_test = train_test_split(np.asarray(X), np.asarray(Y), test_size=0.20)\n",
    "y_train = np.delete(y_train, 2, 1)\n",
    "y_test = np.delete(y_test, 2, 1)\n",
    "\n",
    "model.fit(X_train, y_train, epochs = 15, verbose = 0)\n",
    "scores = model.evaluate(X_test, y_test, verbose = 0) \n",
    "print(\"MSLE: %.6f\" % (scores))"
   ]
  },
  {
   "cell_type": "markdown",
   "metadata": {},
   "source": [
    "Decreasing the number of layers does not improve the result."
   ]
  },
  {
   "cell_type": "markdown",
   "metadata": {},
   "source": [
    "## Results"
   ]
  },
  {
   "cell_type": "markdown",
   "metadata": {},
   "source": [
    "By using the provided parameters (neural network with two hidden layers, RMSE loss, and Adam optimizer), we obtained the following loss: $\\textbf{RMSE = 0.062683}$. \n",
    "It was discovered that MSLE significantly decreases the loss. Trying different optimizers, we came to conclusion that Adam optimizer gives the best performance. Furthermore, the addition of one more hidden layer also improved the result. The best loss obtained is $\\textbf{MSLE = 0.000399}$. Therefore, the result was improved by 157 times.\n"
   ]
  }
 ],
 "metadata": {
  "kernelspec": {
   "display_name": "Python 3",
   "language": "python",
   "name": "python3"
  },
  "language_info": {
   "codemirror_mode": {
    "name": "ipython",
    "version": 3
   },
   "file_extension": ".py",
   "mimetype": "text/x-python",
   "name": "python",
   "nbconvert_exporter": "python",
   "pygments_lexer": "ipython3",
   "version": "3.8.5"
  }
 },
 "nbformat": 4,
 "nbformat_minor": 4
}
